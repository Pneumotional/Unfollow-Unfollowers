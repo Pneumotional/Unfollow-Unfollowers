{
 "cells": [
  {
   "cell_type": "code",
   "execution_count": 26,
   "metadata": {},
   "outputs": [
    {
     "name": "stdout",
     "output_type": "stream",
     "text": [
      "Users not following back: ['_kojoking', 'belaldesigner1', 'paulavelmar', 'shark_pixel', 'adarsh.designz', 'prickle_graphics', 'lazypluto', 'caror725', 'maproductionxs', 'artx.creatives', 'maxat_ishenbiev', 'parsa_psd', 'mahdy_vc', 'kusuma_studios', 'anco_artwork', 'visionaryminds01', 'dnstudios07', '5_starscloud', 'deadphix', 'designaction_oficial', 'luisfer.psd', '_alien_studios_', 'itsokay_designer_', '_photoshopcreative_', 'beastdesigner77', 'brvzy_graphics', 'thumbnailartist_42', 'expressglobalgroup78', 'pixreformer', 'gonji22forever', 'mags.ishopgh', 'psdflyerbrasil', 'psdflyerbr', 'mjurkovski.wav', 'cyber_arts2077', 'chrystek_fotografuje', 'king_yemiblack', 'rebirthgenofficial']\n"
     ]
    }
   ],
   "source": [
    "from bs4 import BeautifulSoup\n",
    "\n",
    "class HtmlDataExtractor:\n",
    "    def __init__(self, html_file_path_followers, html_file_path_following):\n",
    "        self.html_file_path_followers = html_file_path_followers\n",
    "        self.html_file_path_following = html_file_path_following\n",
    "\n",
    "    def extract_data(self):\n",
    "        with open(self.html_file_path_followers, \"r\", encoding=\"utf-8\") as file:\n",
    "            html_content_followers = file.read()\n",
    "\n",
    "        with open(self.html_file_path_following, \"r\", encoding=\"utf-8\") as file:\n",
    "            html_content_following = file.read()\n",
    "\n",
    "        soup_followers = BeautifulSoup(html_content_followers, \"html.parser\")\n",
    "        soup_following = BeautifulSoup(html_content_following, \"html.parser\")\n",
    "\n",
    "        followers = soup_followers.find_all('a', target='_blank')\n",
    "        followings = soup_following.find_all('a', target='_blank')\n",
    "\n",
    "        followers_list = [follower.get_text(strip=True) for follower in followers]\n",
    "        following_list = [following.get_text(strip=True) for following in followings]\n",
    "\n",
    "        # not_following_back = [follower for follower in followers_list if follower not in following_list]\n",
    "        not_following_back = [following for following in following_list if following not in followers_list]\n",
    "\n",
    "        return not_following_back\n",
    "\n",
    "# Example usage:\n",
    "html_file_path_followers = \"followers_1.html\"\n",
    "html_file_path_following = \"following.html\"\n",
    "\n",
    "html_extractor = HtmlDataExtractor(html_file_path_followers, html_file_path_following)\n",
    "not_following_back = html_extractor.extract_data()\n",
    "print(\"Users not following back:\", not_following_back)\n"
   ]
  },
  {
   "cell_type": "code",
   "execution_count": null,
   "metadata": {},
   "outputs": [],
   "source": []
  }
 ],
 "metadata": {
  "kernelspec": {
   "display_name": "Python 3",
   "language": "python",
   "name": "python3"
  },
  "language_info": {
   "codemirror_mode": {
    "name": "ipython",
    "version": 3
   },
   "file_extension": ".py",
   "mimetype": "text/x-python",
   "name": "python",
   "nbconvert_exporter": "python",
   "pygments_lexer": "ipython3",
   "version": "3.10.10"
  }
 },
 "nbformat": 4,
 "nbformat_minor": 2
}
